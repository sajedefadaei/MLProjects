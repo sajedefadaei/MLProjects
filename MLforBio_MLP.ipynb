{
 "cells": [
  {
   "cell_type": "markdown",
   "metadata": {},
   "source": [
    "<img src='http://www-scf.usc.edu/~ghasemig/images/sharif.png' alt=\"SUT logo\" width=200 height=200 align=left class=\"saturate\" >\n",
    "\n",
    "<br>\n",
    "<font face=\"Times New Roman\">\n",
    "<div dir=ltr align=center>\n",
    "<font color=0F5298 size=7>\n",
    "    ML for Bioinformatics <br>\n",
    "<font color=2565AE size=5>\n",
    "    Computer Engineering Department <br>\n",
    "<font color=3C99D size=5>\n",
    "    Homework 3: Practical - Multi-Layer Perceptron (VAE) <br>\n",
    "<font color=696880 size=4>\n",
    "    Sobhan Moghimi (sobhanmoghimi45@gmail.com) <br>\n",
    "    Fakhredin Abdi (fakhredinabdi80@gmail.com) <br>\n",
    "    \n",
    "____\n"
   ]
  },
  {
   "cell_type": "markdown",
   "metadata": {},
   "source": [
    "### Full Name : Sajede Fadaei\n",
    "### Student Number : 400211513"
   ]
  },
  {
   "cell_type": "markdown",
   "metadata": {
    "id": "Hnkccv8vVT-o"
   },
   "source": [
    "# Description"
   ]
  },
  {
   "cell_type": "markdown",
   "metadata": {
    "id": "A9Itv81cfTG4"
   },
   "source": [
    "**In this assignment you'll be working with Dorothea Dataset.**\n",
    "\n",
    "DOROTHEA is a drug discovery dataset. Chemical compounds represented by structural molecular features must be classified as active (binding to thrombin) or inactive.\n",
    "To find out more about dataset, refer to this link: https://archive.ics.uci.edu/ml/datasets/Dorothea\n",
    "\n",
    "You should implement a classifier with Neural Networks and for this purpose we will be using PyTorch as framework."
   ]
  },
  {
   "cell_type": "markdown",
   "metadata": {
    "id": "zqSzHiJuUh7V"
   },
   "source": [
    "# Importing libraries, modules and Dataset."
   ]
  },
  {
   "cell_type": "markdown",
   "metadata": {
    "id": "TlMDVS1gV08L"
   },
   "source": [
    "In this part, import all the libraries and modules needed to solve the problem."
   ]
  },
  {
   "cell_type": "code",
   "execution_count": 1,
   "metadata": {
    "id": "WgjSY5BaViF2"
   },
   "outputs": [],
   "source": [
    "import os\n",
    "import random \n",
    "import torch\n",
    "import numpy as np\n",
    "import pandas as pd\n",
    "import seaborn as sns\n",
    "import matplotlib.pyplot as plt\n",
    "import torch.nn as nn\n",
    "from torch.utils import data\n",
    "from torch.nn import functional as F\n",
    "from sklearn import preprocessing\n",
    "from sklearn.decomposition import PCA\n",
    "from sklearn.metrics import confusion_matrix\n",
    "from tqdm.notebook import tqdm"
   ]
  },
  {
   "cell_type": "markdown",
   "metadata": {
    "id": "RSBb23wYV2Ho"
   },
   "source": [
    "Now import the train and test data from dataset."
   ]
  },
  {
   "cell_type": "code",
   "execution_count": 2,
   "metadata": {},
   "outputs": [
    {
     "name": "stdout",
     "output_type": "stream",
     "text": [
      "(800, 100000)\n",
      "(350, 100000)\n",
      "(800,)\n",
      "(350,)\n"
     ]
    }
   ],
   "source": [
    "def to_matrix(filename, rows, cols):\n",
    "    emp1_mat = np.zeros((rows, cols))\n",
    "    with open(filename, 'r') as f:\n",
    "        lines = f.readlines()\n",
    "        for i, line in enumerate(lines):\n",
    "            test_1 = np.array(line.strip().split()).astype(\"int\")\n",
    "            for j in test_1:\n",
    "                emp1_mat[i, j-1] = 1\n",
    "    return emp1_mat\n",
    "\n",
    "X_train = to_matrix(\"dorothea_train.data\", 800, 100_000)\n",
    "X_test = to_matrix(\"dorothea_valid.data\", 350, 100_000)\n",
    "with open(\"dorothea_train.labels\", 'r') as f:\n",
    "    temp = f.readlines()\n",
    "    Y_train = np.array([1 if x.strip() == '1' else 0 for x in temp])\n",
    "with open(\"dorothea_valid.labels\", 'r') as f:\n",
    "    temp = f.readlines()\n",
    "    Y_test = np.array([1 if x.strip() == '1' else 0 for x in temp])\n",
    "\n",
    "print(X_train.shape)\n",
    "print(X_test.shape)\n",
    "print(Y_train.shape)\n",
    "print(Y_test.shape)"
   ]
  },
  {
   "cell_type": "markdown",
   "metadata": {
    "id": "RgEJNhp_UiEa"
   },
   "source": [
    "## Normalize\n",
    "You can normalize your data using <code>Scikit-Learn</code> modules here."
   ]
  },
  {
   "cell_type": "code",
   "execution_count": 3,
   "metadata": {},
   "outputs": [],
   "source": [
    "X_train_norm = preprocessing.normalize(X_train, axis=0)\n",
    "X_test_norm = preprocessing.normalize(X_test, axis=0)"
   ]
  },
  {
   "cell_type": "markdown",
   "metadata": {
    "id": "pQVOozI3Gjdv"
   },
   "source": [
    "## Dimensionality Reduction\n",
    "There are too many attributes for each instance of dataset. We will suffer from sparse data and long training phase. Thus you can reduce dimensions to get better accuracy. \n",
    "\n",
    "Principal component analysis (PCA) is the process of computing the principal components and using them to perform a change of basis on the data.\n",
    "\n",
    "Apply PCA on Dorothea dataSet using <code>Scikit-Learn</code>."
   ]
  },
  {
   "cell_type": "code",
   "execution_count": 4,
   "metadata": {
    "id": "wrdakV-5ZsRP"
   },
   "outputs": [],
   "source": [
    "pca = PCA(n_components = 100)\n",
    "X_train_pca = pca.fit_transform(X_train_norm)\n",
    "X_test_pca = pca.fit_transform(X_test_norm)"
   ]
  },
  {
   "cell_type": "markdown",
   "metadata": {
    "id": "jFTEH0H23BtL"
   },
   "source": [
    "# Define Model\n",
    "\n"
   ]
  },
  {
   "cell_type": "code",
   "execution_count": 5,
   "metadata": {
    "id": "1z8_ahC_3S5f"
   },
   "outputs": [],
   "source": [
    "# Define your model in here\n",
    "# You can change the code below.\n",
    "\n",
    "class ClassifierModel(nn.Module):\n",
    "    def __init__(self):\n",
    "        super().__init__()\n",
    "        self.l1 = nn.Linear(100, 300)\n",
    "        self.ac = nn.Tanh()\n",
    "        self.l2 = nn.Linear(300, 1)\n",
    "        \n",
    "        self.loss = list()\n",
    "    \n",
    "    def forward(self, x):\n",
    "        x = self.l1(x)\n",
    "        x = self.ac(x)\n",
    "        x = self.l2(x)\n",
    "        \n",
    "        return x\n",
    "    \n",
    "    def add_loss(self, loss):\n",
    "        self.loss.append(loss)\n",
    "        \n",
    "    def clear_loss(self):\n",
    "        self.loss = list()"
   ]
  },
  {
   "cell_type": "markdown",
   "metadata": {
    "id": "IGUFUbsw3n9A"
   },
   "source": [
    "# Train the model"
   ]
  },
  {
   "cell_type": "markdown",
   "metadata": {
    "id": "YDrS8le13n25"
   },
   "source": [
    "**Initialize model, define hyperparameters, optimizer, loss function, etc.**\n",
    "\n"
   ]
  },
  {
   "cell_type": "code",
   "execution_count": 6,
   "metadata": {},
   "outputs": [],
   "source": [
    "class Dorothea(data.Dataset):\n",
    "    def __init__(self, size, data, labels):\n",
    "        \"\"\"\n",
    "        Inputs:\n",
    "            size - Number of data points we want to generate\n",
    "            std - Standard deviation of the noise (see generate_continuous_xor function)\n",
    "        \"\"\"\n",
    "        super().__init__()\n",
    "        self.size = size\n",
    "        self.data = data\n",
    "        self.labels = labels\n",
    "\n",
    "    def __len__(self):\n",
    "        return self.size\n",
    "\n",
    "    def __getitem__(self, idx):\n",
    "        data_point = torch.cuda.FloatTensor(self.data[idx])\n",
    "        data_label = torch.cuda.FloatTensor([self.labels[idx]])\n",
    "        return data_point, data_label"
   ]
  },
  {
   "cell_type": "code",
   "execution_count": 7,
   "metadata": {},
   "outputs": [],
   "source": [
    "def train_model(model, optimizer, data_loader, loss_module, num_epochs=100):\n",
    "    model.train() \n",
    "    model.clear_loss()\n",
    "\n",
    "    for epoch in tqdm(range(num_epochs)):\n",
    "        for data_inputs, data_labels in data_loader:\n",
    "            data_inputs = data_inputs.to(device)\n",
    "            data_labels = data_labels.to(device)\n",
    "            preds = model(data_inputs)            \n",
    "            loss = loss_module(preds, data_labels.float())\n",
    "            optimizer.zero_grad() \n",
    "            loss.backward()\n",
    "            optimizer.step()\n",
    "        model.add_loss(torch.Tensor.cpu(loss / len(data_loader.dataset)))"
   ]
  },
  {
   "cell_type": "code",
   "execution_count": 8,
   "metadata": {},
   "outputs": [
    {
     "data": {
      "application/vnd.jupyter.widget-view+json": {
       "model_id": "e42212b257704f59804fcb61efce926b",
       "version_major": 2,
       "version_minor": 0
      },
      "text/plain": [
       "  0%|          | 0/150 [00:00<?, ?it/s]"
      ]
     },
     "metadata": {},
     "output_type": "display_data"
    }
   ],
   "source": [
    "batch_size = 100\n",
    "epochs = 150\n",
    "\n",
    "model = ClassifierModel()\n",
    "device = torch.device(\"cuda\") if torch.cuda.is_available() else torch.device(\"cpu\")\n",
    "\n",
    "train_dataset = Dorothea(800, X_train_pca, Y_train)\n",
    "test_dataset = Dorothea(350, X_test_pca, Y_test)\n",
    "\n",
    "train_data_loader = data.DataLoader(train_dataset, batch_size=batch_size, shuffle=True)\n",
    "test_data_loader = data.DataLoader(test_dataset, batch_size=350, shuffle=True)\n",
    "\n",
    "loss_module = nn.BCEWithLogitsLoss()\n",
    "optimizer = torch.optim.SGD(model.parameters(), lr=0.002)\n",
    "\n",
    "model.to(device)\n",
    "train_model(model, optimizer, train_data_loader, loss_module, epochs)"
   ]
  },
  {
   "cell_type": "markdown",
   "metadata": {
    "id": "L2Fnamnk4LTV"
   },
   "source": [
    "**After the training process, plot metrics such as loss function values.**"
   ]
  },
  {
   "cell_type": "code",
   "execution_count": 9,
   "metadata": {
    "id": "3br2A_3x7tLY"
   },
   "outputs": [
    {
     "data": {
      "image/png": "[encoded data removed]",
      "text/plain": [
       "<Figure size 640x480 with 1 Axes>"
      ]
     },
     "metadata": {},
     "output_type": "display_data"
    }
   ],
   "source": [
    "# Plot in here\n",
    "loss_values = np.array([x.detach() for x in model.loss])\n",
    "plt.plot(range(1, epochs+1), loss_values, label='Training Loss')\n",
    "plt.show()"
   ]
  },
  {
   "cell_type": "markdown",
   "metadata": {
    "id": "vbwXdL9Ph2jD"
   },
   "source": [
    "# Testing\n",
    "After training, test your model on test dataset and compute performance metrics. "
   ]
  },
  {
   "cell_type": "code",
   "execution_count": 10,
   "metadata": {
    "id": "hzuhWfc3ia5s"
   },
   "outputs": [
    {
     "name": "stdout",
     "output_type": "stream",
     "text": [
      "Accuracy of the model: 89.14%\n"
     ]
    }
   ],
   "source": [
    "# Implement Test in here\n",
    "def eval_model(model, data_loader):\n",
    "    model.eval() # Set model to eval mode\n",
    "    true_preds, num_preds = 0, 0\n",
    "    \n",
    "    with torch.no_grad(): # Deactivate gradients for the following code\n",
    "        for data_inputs, data_labels in data_loader:\n",
    "            \n",
    "            # Determine prediction of model on dev set\n",
    "            data_inputs, data_labels = data_inputs.to(device), data_labels.to(device)\n",
    "            preds = model(data_inputs)\n",
    "            preds = preds.squeeze(dim=1)\n",
    "            preds = torch.sigmoid(preds) # Sigmoid to map predictions between 0 and 1\n",
    "            pred_labels = (preds >= 0.5).long() # Binarize predictions to 0 and 1\n",
    "            \n",
    "            # Keep records of predictions for the accuracy metric (true_preds=TP+TN, num_preds=TP+TN+FP+FN)\n",
    "            true_preds += (pred_labels == data_labels.squeeze(dim=1)).sum()\n",
    "            num_preds += data_labels.shape[0]\n",
    "            \n",
    "    acc = true_preds / num_preds\n",
    "    print(f\"Accuracy of the model: {100*acc:4.2f}%\")\n",
    "    return torch.Tensor.cpu(pred_labels)\n",
    "    \n",
    "Y_pred = eval_model(model, test_data_loader)"
   ]
  },
  {
   "cell_type": "markdown",
   "metadata": {
    "id": "vqQpZsTEh2gL"
   },
   "source": [
    "Show confusion matrix of your model."
   ]
  },
  {
   "cell_type": "code",
   "execution_count": 11,
   "metadata": {
    "id": "Kl9VOLgdiFMg"
   },
   "outputs": [
    {
     "data": {
      "image/png": "[encoded data removed]",
      "text/plain": [
       "<Figure size 640x480 with 2 Axes>"
      ]
     },
     "metadata": {},
     "output_type": "display_data"
    },
    {
     "name": "stdout",
     "output_type": "stream",
     "text": [
      "[[309   7]\n",
      " [ 33   1]]\n"
     ]
    }
   ],
   "source": [
    "# Print your confusion matrix here.\n",
    "cm = confusion_matrix(Y_test, Y_pred)\n",
    "labels = ['0', '1']\n",
    "sns.heatmap(cm, annot=True, cmap='Reds', fmt='d', xticklabels=labels, yticklabels=labels)\n",
    "plt.title('Confusion Matrix')\n",
    "plt.xlabel('Predicted Class')\n",
    "plt.ylabel('True Class')\n",
    "plt.show()\n",
    "\n",
    "print(confusion_matrix(Y_test, Y_pred))"
   ]
  }
 ],
 "metadata": {
  "colab": {
   "collapsed_sections": [
    "Hnkccv8vVT-o",
    "RgEJNhp_UiEa",
    "pQVOozI3Gjdv",
    "jFTEH0H23BtL",
    "IGUFUbsw3n9A",
    "vbwXdL9Ph2jD"
   ],
   "provenance": []
  },
  "kernelspec": {
   "display_name": "Python 3 (ipykernel)",
   "language": "python",
   "name": "python3"
  },
  "language_info": {
   "codemirror_mode": {
    "name": "ipython",
    "version": 3
   },
   "file_extension": ".py",
   "mimetype": "text/x-python",
   "name": "python",
   "nbconvert_exporter": "python",
   "pygments_lexer": "ipython3",
   "version": "3.11.1"
  }
 },
 "nbformat": 4,
 "nbformat_minor": 1
}
